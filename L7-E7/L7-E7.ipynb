{
 "cells": [
  {
   "cell_type": "code",
   "execution_count": 134,
   "metadata": {
    "collapsed": false
   },
   "outputs": [
    {
     "name": "stdout",
     "output_type": "stream",
     "text": [
      "forum_node.tsv  forum_users.tsv\r\n"
     ]
    }
   ],
   "source": [
    "!ls forum_data/"
   ]
  },
  {
   "cell_type": "code",
   "execution_count": 143,
   "metadata": {
    "collapsed": false
   },
   "outputs": [],
   "source": [
    "#!/usr/bin/python\n",
    "import sys\n",
    "import re\n",
    "import csv\n",
    "\n",
    "first = True\n",
    "mapper_out = []\n",
    "with open('forum_data/forum_node.tsv', 'r') as csvfile:\n",
    "    for data in csv.reader(csvfile, delimiter='\\t'):\n",
    "        if len(data) != 19:\n",
    "            continue\n",
    "        if first:\n",
    "            first = False\n",
    "            continue\n",
    "\n",
    "        # get relevant fields\n",
    "        node = data[0].strip('\"') # remove extra \" on node\n",
    "        body = data[4]    \n",
    "\n",
    "        # split words on given pattern (all characters escaped)\n",
    "        # words = re.split('[ \\.\\,\\!\\?\\:\\;\\\"\\(\\)\\<\\>\\[\\]\\#\\$\\=\\-\\/]', body)\n",
    "        words = re.findall('\\w+', body)\n",
    "        words = [w.lower() for w in words if w != '']\n",
    "\n",
    "        for word in words:\n",
    "            mapper_out.append(\"{0}\\t{1}\".format(word, node))"
   ]
  },
  {
   "cell_type": "code",
   "execution_count": 144,
   "metadata": {
    "collapsed": false
   },
   "outputs": [
    {
     "data": {
      "text/plain": [
       "['p\\t2312',\n",
       " 'we\\t2312',\n",
       " 'are\\t2312',\n",
       " 'looking\\t2312',\n",
       " 'for\\t2312',\n",
       " 'feedback\\t2312',\n",
       " 'on\\t2312',\n",
       " 'the\\t2312',\n",
       " 'audio\\t2312',\n",
       " 'in\\t2312']"
      ]
     },
     "execution_count": 144,
     "metadata": {},
     "output_type": "execute_result"
    }
   ],
   "source": [
    "mapper_out[:10]"
   ]
  },
  {
   "cell_type": "code",
   "execution_count": 145,
   "metadata": {
    "collapsed": true
   },
   "outputs": [],
   "source": [
    "# sorter\n",
    "def sorter(data):\n",
    "    data = [line.split(\"\\t\") for line in data]\n",
    "    sorted_data = sorted(data, key=lambda x: x[0])\n",
    "    return [('\\t').join(line) for line in sorted_data]\n",
    "\n",
    "sorter_out = sorter(mapper_out)"
   ]
  },
  {
   "cell_type": "code",
   "execution_count": 146,
   "metadata": {
    "collapsed": false
   },
   "outputs": [
    {
     "data": {
      "text/plain": [
       "['returned\\t65087',\n",
       " 'returned\\t12003220',\n",
       " 'returned\\t12002927',\n",
       " 'returned\\t12002855',\n",
       " 'returned\\t12000883',\n",
       " 'returned\\t12000735',\n",
       " 'returned\\t32461',\n",
       " 'returned\\t49378',\n",
       " 'returned\\t20106',\n",
       " 'returned\\t20970',\n",
       " 'returned\\t62974',\n",
       " 'returned\\t49304',\n",
       " 'returned\\t20958',\n",
       " 'returned\\t20958',\n",
       " 'returned\\t20958',\n",
       " 'returned\\t20958',\n",
       " 'returned\\t20958',\n",
       " 'returned\\t20958',\n",
       " 'returned\\t20969',\n",
       " 'returned\\t20969']"
      ]
     },
     "execution_count": 146,
     "metadata": {},
     "output_type": "execute_result"
    }
   ],
   "source": [
    "r = random.randint(0, len(sorter_out))\n",
    "sorter_out[r-10:r+10]"
   ]
  },
  {
   "cell_type": "code",
   "execution_count": 147,
   "metadata": {
    "collapsed": false
   },
   "outputs": [],
   "source": [
    "reducer_out = []\n",
    "reverted_index = set()\n",
    "total = 0\n",
    "oldKey = None\n",
    "\n",
    "for line in sorter_out:\n",
    "    data_mapped = line.strip().split(\"\\t\")\n",
    "    if len(data_mapped) != 2:\n",
    "        # Something has gone wrong. Skip this line.\n",
    "        continue\n",
    "        \n",
    "    thisKey, thisValue = data_mapped\n",
    "    thisValue = int(thisValue)\n",
    "\n",
    "    if oldKey and oldKey != thisKey:\n",
    "        if oldKey == 'fantastic' or oldKey == 'fantastically':\n",
    "            indexes = list(reverted_index)\n",
    "            indexes.sort()\n",
    "            reducer_out.append(\"{0}\\t{1}\\t{2}\".format(oldKey, total, indexes))\n",
    "        oldKey = thisKey\n",
    "        total = 1\n",
    "        reverted_index = set([thisValue])\n",
    "\n",
    "    total += 1\n",
    "    if thisValue not in reverted_index:\n",
    "        reverted_index.add(thisValue)\n",
    "\n",
    "    oldKey = thisKey\n"
   ]
  },
  {
   "cell_type": "code",
   "execution_count": 148,
   "metadata": {
    "collapsed": false
   },
   "outputs": [
    {
     "data": {
      "text/plain": [
       "['fantastic\\t346\\t[1733, 2209, 2624, 3150, 3322, 4364, 4367, 4371, 6090, 6776, 7360, 7436, 9508, 9683, 15556, 17123, 20063, 20112, 20708, 21354, 23298, 23809, 23898, 27209, 27711, 28204, 28758, 30033, 30069, 30759, 32227, 32305, 34052, 34850, 36163, 36368, 36953, 37496, 38820, 38883, 38887, 38925, 39980, 40231, 40488, 41435, 41490, 41912, 42416, 43297, 45645, 46149, 47225, 48820, 50521, 51804, 52447, 53607, 55132, 55975, 56956, 58673, 59210, 59769, 59895, 59952, 60826, 61719, 62556, 62630, 63044, 63845, 63994, 64596, 65231, 65290, 66083, 66505, 66992, 1000431, 1001232, 1001506, 1002842, 1004468, 1005894, 1006084, 1007576, 1007608, 1007853, 1008236, 1008261, 1008386, 1010081, 1010122, 1010131, 1010498, 1011252, 1012439, 1013270, 1013419, 1013991, 1014021, 1014121, 1014962, 1016782, 1016815, 1016835, 1016968, 1016994, 1017004, 1017009, 1017194, 1018319, 1019101, 1022870, 1024139, 1024947, 1025630, 1025636, 1026843, 1027001, 1027919, 1028165, 1028457, 1028874, 1030052, 1030076, 1030230, 1030434, 1030460, 1030691, 1030729, 1031110, 1031284, 1031527, 1032109, 1032115, 1032306, 1032461, 1032558, 1033096, 1033326, 1033658, 1034207, 1034358, 1034422, 1034438, 1034525, 1034530, 1034932, 2000218, 2000690, 2001672, 2002998, 2003241, 2003508, 2003667, 2003840, 2004638, 2004893, 2005239, 2005299, 2008550, 2009621, 2010110, 2010293, 2010375, 2010544, 2010574, 2011035, 2013245, 2013313, 2014026, 2015329, 2016357, 2016461, 2016630, 2017188, 2017301, 2017302, 2018301, 2019515, 2019574, 2019867, 3000238, 3000468, 3000923, 4000333, 4000922, 4001144, 5000387, 5001974, 5003088, 5003349, 5003545, 5003709, 5004911, 5005694, 5006500, 5006616, 5006788, 5009899, 5011288, 5012858, 5013194, 5013214, 5013943, 5013950, 5014087, 6000476, 6002545, 6002601, 6002673, 6003097, 6004507, 6005206, 6005344, 6006160, 6007187, 6008386, 6012077, 6013218, 6013357, 6016882, 6017596, 6018124, 6018203, 6018659, 6019827, 6020748, 6022210, 6024858, 6025712, 6025789, 6026982, 6027732, 6028672, 6028886, 6029283, 6029575, 6029922, 6030060, 6030080, 6030689, 6031252, 6031263, 6032096, 7000047, 7000580, 7000708, 7000790, 7000898, 7001164, 7001188, 7001888, 7002183, 7002298, 7002333, 7003022, 7003035, 7003318, 7003549, 7004477, 7005815, 7005846, 7006101, 7006108, 8000280, 8001941, 8002948, 8002986, 8004045, 8004076, 8004077, 8004378, 8004652, 8005108, 8005140, 8005359, 9000076, 9000132, 9000612, 9000864, 9001034, 9001403, 9001503, 9001815, 9001836, 9002312, 9003233, 9003491, 9004374, 9004738, 9005356, 9005451, 10000055, 10000081, 10000126, 10000221, 10000243, 10000923, 10001576, 10001588, 10001673, 10001915, 10001927, 10002159, 10002694, 10002931, 10003144, 10003516, 10003797, 10004128, 10004184, 10004997, 10005699, 10006042, 10006359, 10006656, 10007680, 10008829, 10008969, 10009417, 10010407, 10010453, 10010957, 11000246, 11000885, 11001536, 11001726, 11004802, 11005762, 12000437, 12001776]',\n",
       " 'fantastically\\t6\\t[17583, 1007765, 1025821, 7004477, 9006895]']"
      ]
     },
     "execution_count": 148,
     "metadata": {},
     "output_type": "execute_result"
    }
   ],
   "source": [
    "reducer_out"
   ]
  },
  {
   "cell_type": "code",
   "execution_count": null,
   "metadata": {
    "collapsed": true
   },
   "outputs": [],
   "source": []
  }
 ],
 "metadata": {
  "anaconda-cloud": {},
  "kernelspec": {
   "display_name": "Python [conda env:udacity]",
   "language": "python",
   "name": "conda-env-udacity-py"
  },
  "language_info": {
   "codemirror_mode": {
    "name": "ipython",
    "version": 3
   },
   "file_extension": ".py",
   "mimetype": "text/x-python",
   "name": "python",
   "nbconvert_exporter": "python",
   "pygments_lexer": "ipython3",
   "version": "3.5.2"
  }
 },
 "nbformat": 4,
 "nbformat_minor": 1
}
